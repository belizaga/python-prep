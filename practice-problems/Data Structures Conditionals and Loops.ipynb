{
 "cells": [
  {
   "cell_type": "markdown",
   "metadata": {},
   "source": [
    "# Data Structures, Conditionals and Loops\n",
    "\n",
    "These problems will cover the concepts touched on in notebooks:\n",
    "- <a href=\"../lectures/Basic Data Types.ipynb\">Basic Data Types</a>,\n",
    "- <a href=\"../lectures/Strings.ipynb\">Strings</a>,\n",
    "- <a href=\"../lectures/More Complicated Data Types.ipynb\">More Complicated Data Types</a> and\n",
    "- <a href=\"../lectures/Conditionals and Loops.ipynb\">Conditionals and Loops</a>\n",
    "\n",
    "## Basic Problems\n",
    "\n",
    "1. Store the value `17` in a variable named `t`."
   ]
  },
  {
   "cell_type": "code",
   "execution_count": 1,
   "metadata": {},
   "outputs": [],
   "source": [
    "## Code here\n",
    "\n",
    "t = 17\n"
   ]
  },
  {
   "cell_type": "markdown",
   "metadata": {},
   "source": [
    "2. Find out what `.capitalize()` does to a `str` object. Apply it to \"little orphan annie\", and \"Little orphan annie\""
   ]
  },
  {
   "cell_type": "code",
   "execution_count": 4,
   "metadata": {},
   "outputs": [
    {
     "data": {
      "text/plain": [
       "'Little orphan annie'"
      ]
     },
     "execution_count": 4,
     "metadata": {},
     "output_type": "execute_result"
    }
   ],
   "source": [
    "## Code here\n",
    "\n",
    "\"little orphan annie\".capitalize()"
   ]
  },
  {
   "cell_type": "code",
   "execution_count": 5,
   "metadata": {},
   "outputs": [
    {
     "data": {
      "text/plain": [
       "'Little orphan annie'"
      ]
     },
     "execution_count": 5,
     "metadata": {},
     "output_type": "execute_result"
    }
   ],
   "source": [
    "\"Little orphan annie\".capitalize()"
   ]
  },
  {
   "cell_type": "markdown",
   "metadata": {},
   "source": [
    "3. Create a `list` of the first 20 multiples of 3 using a for loop"
   ]
  },
  {
   "cell_type": "code",
   "execution_count": 9,
   "metadata": {},
   "outputs": [
    {
     "data": {
      "text/plain": [
       "[3, 6, 9, 12, 15, 18, 21, 24, 27, 30, 33, 36, 39, 42, 45, 48, 51, 54, 57, 60]"
      ]
     },
     "execution_count": 9,
     "metadata": {},
     "output_type": "execute_result"
    }
   ],
   "source": [
    "## Code here\n",
    "\n",
    "multiples_loop = []\n",
    "for i in range(1,21):\n",
    "    multiples_loop.append(3*i)\n",
    "\n",
    "multiples_loop\n"
   ]
  },
  {
   "cell_type": "markdown",
   "metadata": {},
   "source": [
    "4. Create a `list` of the first 20 multiples of 7 using a `list` comprehension."
   ]
  },
  {
   "cell_type": "code",
   "execution_count": 10,
   "metadata": {},
   "outputs": [
    {
     "data": {
      "text/plain": [
       "[7,\n",
       " 14,\n",
       " 21,\n",
       " 28,\n",
       " 35,\n",
       " 42,\n",
       " 49,\n",
       " 56,\n",
       " 63,\n",
       " 70,\n",
       " 77,\n",
       " 84,\n",
       " 91,\n",
       " 98,\n",
       " 105,\n",
       " 112,\n",
       " 119,\n",
       " 126,\n",
       " 133,\n",
       " 140]"
      ]
     },
     "execution_count": 10,
     "metadata": {},
     "output_type": "execute_result"
    }
   ],
   "source": [
    "## Code here\n",
    "\n",
    "multiples = [7*i for i in range(1,21)]\n",
    "multiples\n"
   ]
  },
  {
   "cell_type": "markdown",
   "metadata": {},
   "source": [
    "5. What happens when you multiply an `str` with an integer?"
   ]
  },
  {
   "cell_type": "code",
   "execution_count": 11,
   "metadata": {},
   "outputs": [
    {
     "data": {
      "text/plain": [
       "'timestimestimestimestimes'"
      ]
     },
     "execution_count": 11,
     "metadata": {},
     "output_type": "execute_result"
    }
   ],
   "source": [
    "## Code here\n",
    "\n",
    "\"times\"*5\n"
   ]
  },
  {
   "cell_type": "markdown",
   "metadata": {},
   "source": [
    "6. The `None` object. Read the following.\n",
    "\n",
    "In python the `None` object is a special object analogous to \"the absence of an object\". In examples where you have a function without a `return` statement (see Python Prep Notebook 7. Functions), the function returns a `None` object."
   ]
  },
  {
   "cell_type": "markdown",
   "metadata": {},
   "source": [
    "## More Advanced Problems\n",
    "\n",
    "1. You can approximate $\\pi$ with the following sum:\n",
    "$$\n",
    "\\sum_{i=0}^N \\frac{8}{\\left( 4i + 1 \\right) \\left( 4i + 3 \\right)}\n",
    "$$\n",
    "Write a `for` loop to approximate `pi`, for $N=10,20,100,1000$."
   ]
  },
  {
   "cell_type": "code",
   "execution_count": 13,
   "metadata": {},
   "outputs": [
    {
     "name": "stdout",
     "output_type": "stream",
     "text": [
      "For N= 10 approximation is 3.0961615264636406\n",
      "For N= 20 approximation is 3.117786501758877\n",
      "For N= 100 approximation is 3.136642188870299\n",
      "For N= 1000 approximation is 3.141093153121444\n"
     ]
    }
   ],
   "source": [
    "## Code here\n",
    "\n",
    "approx_pi=0\n",
    "\n",
    "N=10\n",
    "\n",
    "for i in range(N+1):\n",
    "    approx_pi = approx_pi +8/((4*i + 1)*(4*i + 3))\n",
    "print(\"For N=\", N, \"approximation is\", approx_pi)\n",
    "\n",
    "approx_pi=0\n",
    "\n",
    "N=20\n",
    "\n",
    "for i in range(N+1):\n",
    "    approx_pi = approx_pi +8/((4*i + 1)*(4*i + 3))\n",
    "print(\"For N=\", N, \"approximation is\", approx_pi)\n",
    "\n",
    "approx_pi=0\n",
    "\n",
    "N=100\n",
    "\n",
    "for i in range(N+1):\n",
    "    approx_pi = approx_pi +8/((4*i + 1)*(4*i + 3))\n",
    "print(\"For N=\", N, \"approximation is\", approx_pi)\n",
    "\n",
    "approx_pi=0\n",
    "\n",
    "N=1000\n",
    "\n",
    "for i in range(N+1):\n",
    "    approx_pi = approx_pi +8/((4*i + 1)*(4*i + 3))\n",
    "print(\"For N=\", N, \"approximation is\", approx_pi)"
   ]
  },
  {
   "cell_type": "markdown",
   "metadata": {},
   "source": [
    "2. Write a loop to \"draw\" a right triangle made of a single letter of your choice."
   ]
  },
  {
   "cell_type": "code",
   "execution_count": 14,
   "metadata": {},
   "outputs": [
    {
     "name": "stdout",
     "output_type": "stream",
     "text": [
      "\n",
      "Time\n",
      "TimeTime\n",
      "TimeTimeTime\n",
      "TimeTimeTimeTime\n",
      "TimeTimeTimeTimeTime\n",
      "TimeTimeTimeTimeTimeTime\n",
      "TimeTimeTimeTimeTimeTimeTime\n",
      "TimeTimeTimeTimeTimeTimeTimeTime\n",
      "TimeTimeTimeTimeTimeTimeTimeTimeTime\n",
      "TimeTimeTimeTimeTimeTimeTimeTimeTimeTime\n",
      "TimeTimeTimeTimeTimeTimeTimeTimeTimeTimeTime\n",
      "TimeTimeTimeTimeTimeTimeTimeTimeTimeTimeTimeTime\n",
      "TimeTimeTimeTimeTimeTimeTimeTimeTimeTimeTimeTimeTime\n",
      "TimeTimeTimeTimeTimeTimeTimeTimeTimeTimeTimeTimeTimeTime\n",
      "\n",
      "TimeTimeTimeTimeTimeTimeTimeTimeTimeTimeTimeTimeTimeTimeTime\n",
      "TimeTimeTimeTimeTimeTimeTimeTimeTimeTimeTimeTimeTimeTime\n",
      "TimeTimeTimeTimeTimeTimeTimeTimeTimeTimeTimeTimeTime\n",
      "TimeTimeTimeTimeTimeTimeTimeTimeTimeTimeTimeTime\n",
      "TimeTimeTimeTimeTimeTimeTimeTimeTimeTimeTime\n",
      "TimeTimeTimeTimeTimeTimeTimeTimeTimeTime\n",
      "TimeTimeTimeTimeTimeTimeTimeTimeTime\n",
      "TimeTimeTimeTimeTimeTimeTimeTime\n",
      "TimeTimeTimeTimeTimeTimeTime\n",
      "TimeTimeTimeTimeTimeTime\n",
      "TimeTimeTimeTimeTime\n",
      "TimeTimeTimeTime\n",
      "TimeTimeTime\n",
      "TimeTime\n",
      "Time\n"
     ]
    }
   ],
   "source": [
    "## Code here\n",
    "\n",
    "for i in range(15):\n",
    "    print(\"Time\"*i)\n",
    "\n",
    "print()\n",
    "\n",
    "for i in range(15):\n",
    "    print(\"Time\"*(15-i))"
   ]
  },
  {
   "cell_type": "markdown",
   "metadata": {},
   "source": [
    "3. Below you'll find a `list` called `sample_words`. Make a dictionary that uses the unique words as the keys, and the number of times each word appears as the values."
   ]
  },
  {
   "cell_type": "code",
   "execution_count": 16,
   "metadata": {},
   "outputs": [],
   "source": [
    "sample_words = [\"apple\", \"banana\", \"apple\", \"computer\", \"computer\",\n",
    "               \"programming\", \"language\", \"Obama\", \"Bush\", \"Trump\",\n",
    "               \"Eisenhower\", \"president\", \"president\", \"president\",\n",
    "               \"president\", \"dog\", \"dog\", \"cat\", \"duck\", \"duck\", \"goose\",\n",
    "               \"baseball\", \"basketball\", \"football\", \"hockey\", \"soccer\",\n",
    "               \"sports\", \"lebron\", \"james\", \"darius\", \"garland\"]"
   ]
  },
  {
   "cell_type": "code",
   "execution_count": 17,
   "metadata": {},
   "outputs": [
    {
     "data": {
      "text/plain": [
       "{'apple': 2,\n",
       " 'banana': 1,\n",
       " 'computer': 2,\n",
       " 'programming': 1,\n",
       " 'language': 1,\n",
       " 'Obama': 1,\n",
       " 'Bush': 1,\n",
       " 'Trump': 1,\n",
       " 'Eisenhower': 1,\n",
       " 'president': 4,\n",
       " 'dog': 2,\n",
       " 'cat': 1,\n",
       " 'duck': 2,\n",
       " 'goose': 1,\n",
       " 'baseball': 1,\n",
       " 'basketball': 1,\n",
       " 'football': 1,\n",
       " 'hockey': 1,\n",
       " 'soccer': 1,\n",
       " 'sports': 1,\n",
       " 'lebron': 1,\n",
       " 'james': 1,\n",
       " 'darius': 1,\n",
       " 'garland': 1}"
      ]
     },
     "execution_count": 17,
     "metadata": {},
     "output_type": "execute_result"
    }
   ],
   "source": [
    "## Code here\n",
    "\n",
    "my_dict={}\n",
    "\n",
    "for word in sample_words:\n",
    "    if word in my_dict.keys():\n",
    "        my_dict[word]=my_dict[word]+1\n",
    "    else:\n",
    "        my_dict[word]=1\n",
    "\n",
    "my_dict\n"
   ]
  },
  {
   "cell_type": "markdown",
   "metadata": {},
   "source": [
    "4. Below is a `list` called `steps`, make a variable called `position`, set it to `0`. Make a loop that updates your position based on the step in `steps`."
   ]
  },
  {
   "cell_type": "code",
   "execution_count": 19,
   "metadata": {},
   "outputs": [],
   "source": [
    "steps = [-1,1,1,-1,-1,1,1,1,-1,-1,-1,-1,-1,1,-1,1,-1,1,1,1,-1,-1,1,1,-1,-1]"
   ]
  },
  {
   "cell_type": "code",
   "execution_count": 23,
   "metadata": {},
   "outputs": [
    {
     "name": "stdout",
     "output_type": "stream",
     "text": [
      "0\n",
      "-1\n",
      "0\n",
      "1\n",
      "0\n",
      "-1\n",
      "0\n",
      "1\n",
      "2\n",
      "1\n",
      "0\n",
      "-1\n",
      "-2\n",
      "-3\n",
      "-2\n",
      "-3\n",
      "-2\n",
      "-3\n",
      "-2\n",
      "-1\n",
      "0\n",
      "-1\n",
      "-2\n",
      "-1\n",
      "0\n",
      "-1\n"
     ]
    }
   ],
   "source": [
    "## Code here\n",
    "\n",
    "position = 0\n",
    "\n",
    "for i in steps:\n",
    "    print(position)\n",
    "    position = position + i\n"
   ]
  },
  {
   "cell_type": "code",
   "execution_count": null,
   "metadata": {},
   "outputs": [],
   "source": [
    "## Code here\n",
    "\n",
    "\n"
   ]
  },
  {
   "cell_type": "markdown",
   "metadata": {},
   "source": [
    "--------------------------\n",
    "\n",
    "This notebook was written for the Erd&#337;s Institute C&#337;de Data Science Boot Camp by Matthew Osborne, Ph. D., 2023.\n",
    "\n",
    "Any potential redistributors must seek and receive permission from Matthew Tyler Osborne, Ph.D. prior to redistribution. Redistribution of the material contained in this repository is conditional on acknowledgement of Matthew Tyler Osborne, Ph.D.'s original authorship and sponsorship of the Erdős Institute as subject to the license (see License.md)"
   ]
  },
  {
   "cell_type": "code",
   "execution_count": null,
   "metadata": {},
   "outputs": [],
   "source": []
  }
 ],
 "metadata": {
  "kernelspec": {
   "display_name": "Python 3 (ipykernel)",
   "language": "python",
   "name": "python3"
  },
  "language_info": {
   "codemirror_mode": {
    "name": "ipython",
    "version": 3
   },
   "file_extension": ".py",
   "mimetype": "text/x-python",
   "name": "python",
   "nbconvert_exporter": "python",
   "pygments_lexer": "ipython3",
   "version": "3.12.0"
  }
 },
 "nbformat": 4,
 "nbformat_minor": 2
}
