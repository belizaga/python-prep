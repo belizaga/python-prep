{
 "cells": [
  {
   "cell_type": "markdown",
   "metadata": {},
   "source": [
    "# Functions\n",
    "\n",
    "The problems in this notebook correpond to the <a href=\"../lectures/Writing Functions.ipynb\">Writing Functions</a> notebook."
   ]
  },
  {
   "cell_type": "markdown",
   "metadata": {},
   "source": [
    "## Basic Problems\n",
    "\n",
    "1. Write a function that takes in three arguments and subtracts the second from the first then adds the third."
   ]
  },
  {
   "cell_type": "code",
   "execution_count": 1,
   "metadata": {},
   "outputs": [
    {
     "data": {
      "text/plain": [
       "2"
      ]
     },
     "execution_count": 1,
     "metadata": {},
     "output_type": "execute_result"
    }
   ],
   "source": [
    "## Code here\n",
    "\n",
    "def weird_sum(x, y, z):\n",
    "    return x - y + z\n",
    "weird_sum(1,2,3)\n",
    "\n"
   ]
  },
  {
   "cell_type": "markdown",
   "metadata": {},
   "source": [
    "2. Write a function that takes in an $x$ and $y$ and tells you whether or not the point $(x,y)$ is above the line $y = x + 2$."
   ]
  },
  {
   "cell_type": "code",
   "execution_count": 16,
   "metadata": {},
   "outputs": [],
   "source": [
    "## Code here\n",
    "\n",
    "def linef(x, y):\n",
    "    if y > x+2:\n",
    "        return print(\"The point (\" + str(x) + \",\" + str(y) + \")\" + \" is above the line y=x+2\")\n",
    "    else:\n",
    "        return print(\"The point (\" + str(x) + \",\" + str(y) + \")\" + \" is below the line y=x+2\")\n",
    "\n"
   ]
  },
  {
   "cell_type": "code",
   "execution_count": 17,
   "metadata": {},
   "outputs": [
    {
     "name": "stdout",
     "output_type": "stream",
     "text": [
      "The point (3,5) is below the line y=x+2\n"
     ]
    }
   ],
   "source": [
    "linef(3,5)"
   ]
  },
  {
   "cell_type": "markdown",
   "metadata": {},
   "source": [
    "3. Write a function that takes in an argument and tells you whether it is an `str`. Hint: Remember the `type` function in python."
   ]
  },
  {
   "cell_type": "code",
   "execution_count": 21,
   "metadata": {},
   "outputs": [
    {
     "name": "stdout",
     "output_type": "stream",
     "text": [
      "False\n",
      "True\n"
     ]
    }
   ],
   "source": [
    "## Code here\n",
    "\n",
    "def str_check(x):\n",
    "    if type(x)==str:\n",
    "        return True\n",
    "    else:\n",
    "        return False\n",
    "\n",
    "print(str_check(4))\n",
    "print(str_check(\"hola\"))"
   ]
  },
  {
   "cell_type": "markdown",
   "metadata": {},
   "source": [
    "4. Write a function that takes in a name and says hello to that name."
   ]
  },
  {
   "cell_type": "code",
   "execution_count": 24,
   "metadata": {},
   "outputs": [
    {
     "name": "stdout",
     "output_type": "stream",
     "text": [
      "Hello, Beatriz\n"
     ]
    }
   ],
   "source": [
    "## Code here\n",
    "\n",
    "def hello(name):\n",
    "    print(\"Hello,\", name)\n",
    "\n",
    "hello(\"Beatriz\")"
   ]
  },
  {
   "cell_type": "markdown",
   "metadata": {},
   "source": [
    "5. Write a function that takes in a number and a value, `p`, and returns a $-1$ if the number is below `p` and a $1$ if the number is above `p`."
   ]
  },
  {
   "cell_type": "code",
   "execution_count": 26,
   "metadata": {},
   "outputs": [
    {
     "data": {
      "text/plain": [
       "1"
      ]
     },
     "execution_count": 26,
     "metadata": {},
     "output_type": "execute_result"
    }
   ],
   "source": [
    "## Code here\n",
    "\n",
    "def pfunction(x,p):\n",
    "    if x < p:\n",
    "        return -1\n",
    "    else:\n",
    "        return 1\n",
    "\n",
    "pfunction(6,5)\n"
   ]
  },
  {
   "cell_type": "markdown",
   "metadata": {},
   "source": [
    "## More Advanced Problems\n",
    "\n",
    "1. Taxable income is determined on a bracket system, where the taxes you owe are determined by  the bracket below:\n",
    "<img src = \"single_tax.png\" style=\"width:60%\"></img>\n",
    "Write a function that takes in someone's taxable income and computes how much they owe the federal government."
   ]
  },
  {
   "cell_type": "code",
   "execution_count": 32,
   "metadata": {},
   "outputs": [
    {
     "data": {
      "text/plain": [
       "9650.0"
      ]
     },
     "execution_count": 32,
     "metadata": {},
     "output_type": "execute_result"
    }
   ],
   "source": [
    "## Code here\n",
    "\n",
    "def tax_income(x):\n",
    "    if x>=0:\n",
    "        if x<= 9875:\n",
    "            return 9875 * 0.1\n",
    "        if x>9875 and x<=40125:\n",
    "            return 987.5 + 0.12 * (x-9875)\n",
    "        if x>40125 and x<=85525:\n",
    "            return 4617.5 + 0.22 * (x-40125)\n",
    "        if x>85525 and x<=163300:\n",
    "            return 14605.5 + 0.24 * (x-85525)\n",
    "        if x>163300 and x<=207350:\n",
    "            return 33271.5 + 0.32 * (x-163300)\n",
    "        if x>207350 and x<=518400:\n",
    "            return 47367.5 + 0.35 * (x-207350)\n",
    "        else:\n",
    "            return 156235 + 0.37 * (x-518400)\n",
    "    if x<0:\n",
    "        return print(\"Please insert a positive amount\")\n",
    "\n",
    "tax_income(63000)"
   ]
  },
  {
   "cell_type": "code",
   "execution_count": 33,
   "metadata": {},
   "outputs": [
    {
     "name": "stdout",
     "output_type": "stream",
     "text": [
      "Please insert a positive amount\n"
     ]
    }
   ],
   "source": [
    "tax_income(-10)"
   ]
  },
  {
   "cell_type": "markdown",
   "metadata": {},
   "source": [
    "2. You can approximate $\\pi$ with the following sum:\n",
    "$$\n",
    "\\sum_{i=0}^N \\frac{8}{\\left( 4i + 1 \\right) \\left( 4i + 3 \\right)},\n",
    "$$\n",
    "Write a function that takes in a value for $N$ and returns an approximation of $\\pi$."
   ]
  },
  {
   "cell_type": "code",
   "execution_count": 36,
   "metadata": {},
   "outputs": [
    {
     "data": {
      "text/plain": [
       "3.1366421888703013"
      ]
     },
     "execution_count": 36,
     "metadata": {},
     "output_type": "execute_result"
    }
   ],
   "source": [
    "## Code here\n",
    "\n",
    "def approx_pi(N):\n",
    "    return sum([8/((4*i + 1)*(4*i + 3)) for i in range(N+1)])\n",
    "    \n",
    "approx_pi(100)        \n",
    "\n",
    "\n"
   ]
  },
  {
   "cell_type": "code",
   "execution_count": 38,
   "metadata": {},
   "outputs": [
    {
     "data": {
      "text/plain": [
       "3.136642188870299"
      ]
     },
     "execution_count": 38,
     "metadata": {},
     "output_type": "execute_result"
    }
   ],
   "source": [
    "## Code here\n",
    "def loop_pi(N):\n",
    "    total=0\n",
    "    for i in range(N+1):\n",
    "        total += 8/((4*i + 1)*(4*i + 3))\n",
    "    return total\n",
    "loop_pi(100)\n",
    "\n"
   ]
  },
  {
   "cell_type": "markdown",
   "metadata": {},
   "source": [
    "3. Write a function that takes in a list of words, and returns a word count dictionary that contains the number of times each unique word shows up in the list. Test it on the list of words stored in `sample_words`."
   ]
  },
  {
   "cell_type": "code",
   "execution_count": 41,
   "metadata": {},
   "outputs": [],
   "source": [
    "sample_words = [\"apple\", \"banana\", \"apple\", \"computer\", \"computer\",\n",
    "               \"programming\", \"language\", \"Obama\", \"Bush\", \"Trump\",\n",
    "               \"Eisenhower\", \"president\", \"president\", \"president\",\n",
    "               \"president\", \"dog\", \"dog\", \"cat\", \"duck\", \"duck\", \"goose\",\n",
    "               \"baseball\", \"basketball\", \"football\", \"hockey\", \"soccer\",\n",
    "               \"sports\", \"lebron\", \"james\", \"darius\", \"garland\"]"
   ]
  },
  {
   "cell_type": "code",
   "execution_count": 44,
   "metadata": {},
   "outputs": [
    {
     "data": {
      "text/plain": [
       "{'apple': 2,\n",
       " 'banana': 1,\n",
       " 'computer': 2,\n",
       " 'programming': 1,\n",
       " 'language': 1,\n",
       " 'Obama': 1,\n",
       " 'Bush': 1,\n",
       " 'Trump': 1,\n",
       " 'Eisenhower': 1,\n",
       " 'president': 4,\n",
       " 'dog': 2,\n",
       " 'cat': 1,\n",
       " 'duck': 2,\n",
       " 'goose': 1,\n",
       " 'baseball': 1,\n",
       " 'basketball': 1,\n",
       " 'football': 1,\n",
       " 'hockey': 1,\n",
       " 'soccer': 1,\n",
       " 'sports': 1,\n",
       " 'lebron': 1,\n",
       " 'james': 1,\n",
       " 'darius': 1,\n",
       " 'garland': 1}"
      ]
     },
     "execution_count": 44,
     "metadata": {},
     "output_type": "execute_result"
    }
   ],
   "source": [
    "## Code here\n",
    "\n",
    "def count_dict(wordlist):\n",
    "    mydict={}\n",
    "    for word in wordlist:\n",
    "        if word in mydict.keys():\n",
    "            mydict[word]=mydict[word]+1\n",
    "        else:\n",
    "            mydict[word]=1\n",
    "    return mydict\n",
    "\n",
    "count_dict(sample_words)"
   ]
  },
  {
   "cell_type": "code",
   "execution_count": null,
   "metadata": {},
   "outputs": [],
   "source": [
    "## Code here\n",
    "\n",
    "\n",
    "\n"
   ]
  },
  {
   "cell_type": "code",
   "execution_count": null,
   "metadata": {},
   "outputs": [],
   "source": [
    "## Code here\n",
    "\n",
    "\n",
    "\n"
   ]
  },
  {
   "cell_type": "markdown",
   "metadata": {},
   "source": [
    "--------------------------\n",
    "\n",
    "This notebook was written for the Erd&#337;s Institute C&#337;de Data Science Boot Camp by Matthew Osborne, Ph. D., 2022.\n",
    "\n",
    "Any potential redistributors must seek and receive permission from Matthew Tyler Osborne, Ph.D. prior to redistribution. Redistribution of the material contained in this repository is conditional on acknowledgement of Matthew Tyler Osborne, Ph.D.'s original authorship and sponsorship of the Erdős Institute as subject to the license (see License.md)"
   ]
  },
  {
   "cell_type": "code",
   "execution_count": null,
   "metadata": {},
   "outputs": [],
   "source": []
  }
 ],
 "metadata": {
  "kernelspec": {
   "display_name": "Python 3 (ipykernel)",
   "language": "python",
   "name": "python3"
  },
  "language_info": {
   "codemirror_mode": {
    "name": "ipython",
    "version": 3
   },
   "file_extension": ".py",
   "mimetype": "text/x-python",
   "name": "python",
   "nbconvert_exporter": "python",
   "pygments_lexer": "ipython3",
   "version": "3.12.0"
  }
 },
 "nbformat": 4,
 "nbformat_minor": 2
}
