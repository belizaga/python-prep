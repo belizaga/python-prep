{
 "cells": [
  {
   "cell_type": "markdown",
   "metadata": {},
   "source": [
    "# Writing to File and Importing a Package\n",
    "\n",
    "These problems correspond to <a href=\"../lectures/Reading and Writing to File.ipynb\">Reading and Writing to File</a> and <a href=\"../lectures/Importing a Module or Package.ipynb\">Importing a Module or Package</a> lectures."
   ]
  },
  {
   "cell_type": "markdown",
   "metadata": {},
   "source": [
    "## Basic Problems\n",
    "\n",
    "1. Read in `practice_file.txt` from the `data` folder and store the lines of the file in a list. Write a loop to print the lines."
   ]
  },
  {
   "cell_type": "code",
   "execution_count": 6,
   "metadata": {},
   "outputs": [
    {
     "name": "stdout",
     "output_type": "stream",
     "text": [
      "0\n",
      "\n",
      "1\n",
      "\n",
      "2\n",
      "\n",
      "3\n",
      "\n",
      "4\n",
      "\n",
      "5\n",
      "\n",
      "6\n",
      "\n",
      "7\n",
      "\n",
      "8\n",
      "\n",
      "9\n",
      "\n",
      "10\n",
      "\n",
      "11\n",
      "\n",
      "12\n",
      "\n",
      "13\n",
      "\n",
      "14\n",
      "\n",
      "15\n",
      "\n",
      "16\n",
      "\n",
      "17\n",
      "\n",
      "18\n",
      "\n",
      "19\n",
      "\n",
      "20\n",
      "\n",
      "21\n",
      "\n",
      "22\n",
      "\n",
      "23\n",
      "\n",
      "24\n",
      "\n",
      "25\n",
      "\n"
     ]
    }
   ],
   "source": [
    "## Code here\n",
    "\n",
    "with open(\"/Users/beatriz/Documents/GitHub/python-prep/data/practice_file.txt\",\"r\") as file:\n",
    "    file_list = file.readlines()\n",
    "\n",
    "file.close()\n",
    "\n",
    "for i in range(len(file_list)):\n",
    "    print(file_list[i])\n",
    "\n"
   ]
  },
  {
   "cell_type": "markdown",
   "metadata": {},
   "source": [
    "2. Import the `random` module."
   ]
  },
  {
   "cell_type": "code",
   "execution_count": 7,
   "metadata": {},
   "outputs": [],
   "source": [
    "## Code here\n",
    "\n",
    "import random as r\n",
    "\n"
   ]
  },
  {
   "cell_type": "markdown",
   "metadata": {},
   "source": [
    "3. Do an internet search and see what `random.random()` does. A good starting point may be the documentation on the `random` module."
   ]
  },
  {
   "cell_type": "code",
   "execution_count": 11,
   "metadata": {},
   "outputs": [
    {
     "data": {
      "text/plain": [
       "0.17897157176775147"
      ]
     },
     "execution_count": 11,
     "metadata": {},
     "output_type": "execute_result"
    }
   ],
   "source": [
    "## Code here\n",
    "\n",
    "r.random()\n",
    "\n"
   ]
  },
  {
   "cell_type": "markdown",
   "metadata": {},
   "source": [
    "4. Import the `datetime` module, then run the code `datetime.datetime.now()`. What is this? What is the `type` of what comes out?"
   ]
  },
  {
   "cell_type": "code",
   "execution_count": 13,
   "metadata": {},
   "outputs": [
    {
     "data": {
      "text/plain": [
       "datetime.datetime(2024, 9, 2, 14, 47, 8, 146906)"
      ]
     },
     "execution_count": 13,
     "metadata": {},
     "output_type": "execute_result"
    }
   ],
   "source": [
    "## Code here\n",
    "\n",
    "import datetime as d\n",
    "\n",
    "d.datetime.now()"
   ]
  },
  {
   "cell_type": "markdown",
   "metadata": {},
   "source": [
    "5. Use `datetime.datetime` to store your birthday in a variable named `birthday`."
   ]
  },
  {
   "cell_type": "code",
   "execution_count": 15,
   "metadata": {},
   "outputs": [
    {
     "data": {
      "text/plain": [
       "datetime.datetime(1992, 6, 4, 2, 0)"
      ]
     },
     "execution_count": 15,
     "metadata": {},
     "output_type": "execute_result"
    }
   ],
   "source": [
    "## Code here\n",
    "\n",
    "birthday = d.datetime(1992, 6, 4, 2, 00, 00000)\n",
    "\n",
    "birthday"
   ]
  },
  {
   "cell_type": "markdown",
   "metadata": {},
   "source": [
    "## More Advanced Problems\n",
    "\n",
    "1. <i>A Random Walk</i> A random walk desribes someone taking steps down a sidewalk according to a flipped coin. Imagine a person starting at position $0$ and going one step forward if the coin comes up heads, and one step backward if the flipped coin comes up tails. Use `random.random()` to make a list of random walk positions for a random walk of 100 steps. Write the results of the random walk to a file called `random_walk.csv`. Each position should be stored on it's own row. Name the column `position`."
   ]
  },
  {
   "cell_type": "code",
   "execution_count": 17,
   "metadata": {},
   "outputs": [
    {
     "name": "stdout",
     "output_type": "stream",
     "text": [
      "position\n",
      "0\n",
      "-1\n",
      "-2\n",
      "-1\n",
      "-2\n",
      "-1\n",
      "-2\n",
      "-1\n",
      "-2\n",
      "-1\n",
      "-2\n",
      "-3\n",
      "-4\n",
      "-5\n",
      "-4\n",
      "-5\n",
      "-6\n",
      "-7\n",
      "-8\n",
      "-7\n",
      "-6\n",
      "-7\n",
      "-6\n",
      "-5\n",
      "-6\n",
      "-5\n",
      "-6\n",
      "-5\n",
      "-4\n",
      "-5\n",
      "-6\n",
      "-5\n",
      "-6\n",
      "-7\n",
      "-8\n",
      "-9\n",
      "-10\n",
      "-11\n",
      "-10\n",
      "-9\n",
      "-8\n",
      "-7\n",
      "-8\n",
      "-9\n",
      "-10\n",
      "-9\n",
      "-10\n",
      "-11\n",
      "-10\n",
      "-9\n",
      "-8\n",
      "-7\n",
      "-6\n",
      "-5\n",
      "-4\n",
      "-5\n",
      "-4\n",
      "-3\n",
      "-2\n",
      "-3\n",
      "-2\n",
      "-1\n",
      "0\n",
      "1\n",
      "0\n",
      "1\n",
      "0\n",
      "1\n",
      "2\n",
      "3\n",
      "2\n",
      "1\n",
      "0\n",
      "-1\n",
      "-2\n",
      "-1\n",
      "-2\n",
      "-3\n",
      "-4\n",
      "-5\n",
      "-4\n",
      "-5\n",
      "-6\n",
      "-7\n",
      "-6\n",
      "-7\n",
      "-8\n",
      "-9\n",
      "-8\n",
      "-7\n",
      "-6\n",
      "-7\n",
      "-8\n",
      "-7\n",
      "-6\n",
      "-7\n",
      "-6\n",
      "-5\n",
      "-6\n",
      "-5\n",
      "-4\n",
      "\n"
     ]
    }
   ],
   "source": [
    "## Code here\n",
    "\n",
    "with open(\"/Users/beatriz/Documents/GitHub/python-prep/data/random_walk.csv\",\"w\") as file:\n",
    "    file.write(\"position\\n\")\n",
    "    p=0\n",
    "    file.write(str(p)+\"\\n\")\n",
    "    for i in range(100):\n",
    "        coin = r.random()\n",
    "        if coin<= 0.5:\n",
    "            p=p-1\n",
    "        else:\n",
    "            p=p+1\n",
    "        file.write(str(p)+\"\\n\")\n",
    "\n",
    "with open(\"/Users/beatriz/Documents/GitHub/python-prep/data/random_walk.csv\",\"r\") as file:\n",
    "    print(file.read())\n",
    "\n",
    "file.close()\n",
    "\n",
    "\n"
   ]
  },
  {
   "cell_type": "code",
   "execution_count": null,
   "metadata": {},
   "outputs": [],
   "source": [
    "## Code here\n",
    "\n",
    "\n",
    "\n"
   ]
  },
  {
   "cell_type": "code",
   "execution_count": null,
   "metadata": {},
   "outputs": [],
   "source": [
    "## Code here\n",
    "\n",
    "\n",
    "\n"
   ]
  },
  {
   "cell_type": "code",
   "execution_count": null,
   "metadata": {},
   "outputs": [],
   "source": [
    "## Code here\n",
    "\n",
    "\n",
    "\n"
   ]
  },
  {
   "cell_type": "code",
   "execution_count": null,
   "metadata": {},
   "outputs": [],
   "source": [
    "## Code here\n",
    "\n",
    "\n",
    "\n"
   ]
  },
  {
   "cell_type": "markdown",
   "metadata": {},
   "source": [
    "--------------------------\n",
    "\n",
    "This notebook was written for the Erd&#337;s Institute C&#337;de Data Science Boot Camp by Matthew Osborne, Ph. D., 2023.\n",
    "\n",
    "Any potential redistributors must seek and receive permission from Matthew Tyler Osborne, Ph.D. prior to redistribution. Redistribution of the material contained in this repository is conditional on acknowledgement of Matthew Tyler Osborne, Ph.D.'s original authorship and sponsorship of the Erdős Institute as subject to the license (see License.md)"
   ]
  },
  {
   "cell_type": "code",
   "execution_count": null,
   "metadata": {},
   "outputs": [],
   "source": []
  }
 ],
 "metadata": {
  "kernelspec": {
   "display_name": "Python 3 (ipykernel)",
   "language": "python",
   "name": "python3"
  },
  "language_info": {
   "codemirror_mode": {
    "name": "ipython",
    "version": 3
   },
   "file_extension": ".py",
   "mimetype": "text/x-python",
   "name": "python",
   "nbconvert_exporter": "python",
   "pygments_lexer": "ipython3",
   "version": "3.12.0"
  }
 },
 "nbformat": 4,
 "nbformat_minor": 2
}
